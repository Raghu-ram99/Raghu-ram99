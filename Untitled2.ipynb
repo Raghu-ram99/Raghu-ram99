{
  "nbformat": 4,
  "nbformat_minor": 0,
  "metadata": {
    "colab": {
      "name": "Untitled2.ipynb",
      "provenance": [],
      "authorship_tag": "ABX9TyPy9aygKzF99F0mbg0lvBpu",
      "include_colab_link": true
    },
    "kernelspec": {
      "name": "python3",
      "display_name": "Python 3"
    },
    "language_info": {
      "name": "python"
    }
  },
  "cells": [
    {
      "cell_type": "markdown",
      "metadata": {
        "id": "view-in-github",
        "colab_type": "text"
      },
      "source": [
        "<a href=\"https://colab.research.google.com/github/Raghu-ram99/Raghu-ram99/blob/main/Untitled2.ipynb\" target=\"_parent\"><img src=\"https://colab.research.google.com/assets/colab-badge.svg\" alt=\"Open In Colab\"/></a>"
      ]
    },
    {
      "cell_type": "code",
      "metadata": {
        "colab": {
          "base_uri": "https://localhost:8080/"
        },
        "id": "9JOtoxla1DfD",
        "outputId": "7c145987-33cf-46bf-e6ef-bc3af6c09c22"
      },
      "source": [
        "a=int(input())\n",
        "if a%2==0:\n",
        "  print(\"even\")\n",
        "else:\n",
        "    print(\"odd\")"
      ],
      "execution_count": 2,
      "outputs": [
        {
          "output_type": "stream",
          "text": [
            "3\n",
            "odd\n"
          ],
          "name": "stdout"
        }
      ]
    },
    {
      "cell_type": "code",
      "metadata": {
        "colab": {
          "base_uri": "https://localhost:8080/",
          "height": 131
        },
        "id": "GzY3Vtnh1lKq",
        "outputId": "74293dcf-6cff-4433-fb75-1f77dde550be"
      },
      "source": [
        ""
      ],
      "execution_count": 6,
      "outputs": [
        {
          "output_type": "error",
          "ename": "SyntaxError",
          "evalue": "ignored",
          "traceback": [
            "\u001b[0;36m  File \u001b[0;32m\"<ipython-input-6-96e04cbd1ec0>\"\u001b[0;36m, line \u001b[0;32m4\u001b[0m\n\u001b[0;31m    print('The sum of{0}and{1}is\u001b[0m\n\u001b[0m                                ^\u001b[0m\n\u001b[0;31mSyntaxError\u001b[0m\u001b[0;31m:\u001b[0m EOL while scanning string literal\n"
          ]
        }
      ]
    },
    {
      "cell_type": "code",
      "metadata": {
        "colab": {
          "base_uri": "https://localhost:8080/"
        },
        "id": "C8lKKxN-XeBd",
        "outputId": "55262444-0458-4c3a-86bf-31014be545fd"
      },
      "source": [
        "num1=input('Enter First NUmber: ');\n",
        "num2=input('Enter Second NUmber: ');\n",
        "\n",
        "sum=float(num1)+float(num2);\n",
        "\n",
        "print('The sum of {0} and {1} is {2}'.format(num1,num2,sum))"
      ],
      "execution_count": 2,
      "outputs": [
        {
          "output_type": "stream",
          "text": [
            "Enter First NUmber: 1\n",
            "Enter Second NUmber: 2\n",
            "The sum of 1 and 2 is 3.0\n"
          ],
          "name": "stdout"
        }
      ]
    },
    {
      "cell_type": "code",
      "metadata": {
        "colab": {
          "base_uri": "https://localhost:8080/"
        },
        "id": "JstYRiI1YwoA",
        "outputId": "68fe95f4-cf2a-4e25-9131-1af1d23a30c3"
      },
      "source": [
        "num=8;\n",
        "num_sqrt=num**0.5;\n",
        "print('The Square root of  %0.3f is %0.3f'%(num,num_sqrt));"
      ],
      "execution_count": 4,
      "outputs": [
        {
          "output_type": "stream",
          "text": [
            "The Square root of  8.000 is 2.828\n"
          ],
          "name": "stdout"
        }
      ]
    }
  ]
}